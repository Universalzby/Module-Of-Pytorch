{
 "cells": [
  {
   "cell_type": "code",
   "execution_count": 80,
   "metadata": {},
   "outputs": [],
   "source": [
    "from torch import nn\n",
    "import torch"
   ]
  },
  {
   "cell_type": "markdown",
   "metadata": {},
   "source": [
    "### 公式(L1 均值表达式)：\n",
    "loss = 1/n * ∑|yi - targeti|"
   ]
  },
  {
   "cell_type": "markdown",
   "metadata": {},
   "source": [
    "LOSS类中的reduction参数可选\n",
    "\n",
    "none：无\n",
    "mean: 求和平均\n",
    "sum：求和"
   ]
  },
  {
   "cell_type": "code",
   "execution_count": 122,
   "metadata": {},
   "outputs": [
    {
     "name": "stdout",
     "output_type": "stream",
     "text": [
      "tensor([[ 0.3823, -1.2227,  0.2684, -2.2549, -1.1143]]) \n",
      " tensor([[-1.8366, -0.2032,  0.5986,  0.0714, -0.5846]])\n"
     ]
    },
    {
     "data": {
      "text/plain": [
       "tensor(1.7882)"
      ]
     },
     "execution_count": 122,
     "metadata": {},
     "output_type": "execute_result"
    }
   ],
   "source": [
    "\n",
    "loss_func = nn.L1Loss(reduction=\"mean\")\n",
    "# def loss_f(input, target):\n",
    "#     n = len(input)\n",
    "\n",
    "input, target = torch.randn(1, 5), torch.randn(1, 5)\n",
    "print(input, \"\\n\" ,target)\n",
    "loss = loss_func(input, output)\n",
    "loss"
   ]
  },
  {
   "cell_type": "markdown",
   "metadata": {},
   "source": [
    "结论 ：\n",
    "无论输入的张量是多少维，\n",
    "函数都是对所有单个数据做加权"
   ]
  },
  {
   "cell_type": "markdown",
   "metadata": {},
   "source": [
    "### 公式（MSE均方误差L2）\n",
    "loss = 1/n * ∑(yi - targeti)^2"
   ]
  },
  {
   "cell_type": "markdown",
   "metadata": {},
   "source": [
    "LOSS类中的reduction参数可选\n",
    "\n",
    "none：无\n",
    "mean: 求和平均\n",
    "sum：求和"
   ]
  },
  {
   "cell_type": "code",
   "execution_count": 113,
   "metadata": {},
   "outputs": [
    {
     "data": {
      "text/plain": [
       "tensor(26.3605)"
      ]
     },
     "execution_count": 113,
     "metadata": {},
     "output_type": "execute_result"
    }
   ],
   "source": [
    "loss_func = nn.MSELoss(reduction=\"sum\")\n",
    "loss_func(input, target)"
   ]
  },
  {
   "cell_type": "markdown",
   "metadata": {},
   "source": [
    "### 公式（交叉熵）\n",
    "此处是针对某一个类别计算损失值\n",
    "例如 输入tensor长度为5，如果要计算第三个的交叉熵损失值\n",
    "\n",
    "loss = -log( exp(x3)/∑exp(xi) )\n",
    "相当于softmax层第三个元素的输出再加个log并取相反数"
   ]
  },
  {
   "cell_type": "code",
   "execution_count": 160,
   "metadata": {},
   "outputs": [
    {
     "data": {
      "text/plain": [
       "tensor(0.0745)"
      ]
     },
     "execution_count": 160,
     "metadata": {},
     "output_type": "execute_result"
    }
   ],
   "source": [
    "loss_func = nn.CrossEntropyLoss()\n",
    "loss_func(torch.Tensor([[0,1,2,3,6]]), torch.empty(1, dtype=torch.long).random_(5))"
   ]
  },
  {
   "cell_type": "markdown",
   "metadata": {},
   "source": [
    "### 公式（BCE 二分类交叉熵损失函数）\n",
    "loss = target*log(yi) + (1 - target)*log(1 - yi)"
   ]
  },
  {
   "cell_type": "markdown",
   "metadata": {},
   "source": [
    "### 公式(BCEwithlogitsloss)\n",
    "loss = targetlog( sigmoid(yi) ) + (1 - target)*log(1 - sigmoid(yi))"
   ]
  },
  {
   "cell_type": "code",
   "execution_count": null,
   "metadata": {},
   "outputs": [],
   "source": []
  }
 ],
 "metadata": {
  "kernelspec": {
   "display_name": "Python 3",
   "language": "python",
   "name": "python3"
  },
  "language_info": {
   "codemirror_mode": {
    "name": "ipython",
    "version": 3
   },
   "file_extension": ".py",
   "mimetype": "text/x-python",
   "name": "python",
   "nbconvert_exporter": "python",
   "pygments_lexer": "ipython3",
   "version": "3.6.7"
  }
 },
 "nbformat": 4,
 "nbformat_minor": 2
}
