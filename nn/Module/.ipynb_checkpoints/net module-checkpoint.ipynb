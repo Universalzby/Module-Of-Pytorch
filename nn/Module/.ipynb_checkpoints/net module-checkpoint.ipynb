{
 "cells": [
  {
   "cell_type": "markdown",
   "metadata": {},
   "source": [
    "在构造网络的时候，往往多个层构成一个基本模块，本节说明怎么将网络划分成多个小模块，便于区分和使用"
   ]
  },
  {
   "cell_type": "code",
   "execution_count": 8,
   "metadata": {},
   "outputs": [],
   "source": [
    "import torch\n",
    "from torch import nn"
   ]
  },
  {
   "cell_type": "markdown",
   "metadata": {},
   "source": [
    "1. 利用nn.Sequential 将多个网络绑定在一起"
   ]
  },
  {
   "cell_type": "code",
   "execution_count": 18,
   "metadata": {},
   "outputs": [
    {
     "data": {
      "text/plain": [
       "Sequential(\n",
       "  (0): Linear(in_features=2, out_features=10, bias=True)\n",
       "  (1): Linear(in_features=10, out_features=2, bias=True)\n",
       ")"
      ]
     },
     "execution_count": 18,
     "metadata": {},
     "output_type": "execute_result"
    }
   ],
   "source": [
    "class NN(nn.Module):\n",
    "    def __init__(self):\n",
    "        super(NN, self).__init__()\n",
    "        self.fn = nn.Sequential(\n",
    "            nn.Linear(2,10),\n",
    "            nn.Linear(10,2)\n",
    "        )\n",
    "        self.bn = nn.Sequential(\n",
    "            nn.Linear(2,10),\n",
    "            nn.Linear(10,2)\n",
    "        )\n",
    "    def forward(self, x):\n",
    "        x = self.fn(x)\n",
    "        return self.bn(x)\n",
    "model1 = NN()\n",
    "model1.fn"
   ]
  },
  {
   "cell_type": "markdown",
   "metadata": {},
   "source": [
    "2. add_module 添加子模块 name:string , parameter:childmodule"
   ]
  },
  {
   "cell_type": "code",
   "execution_count": 19,
   "metadata": {},
   "outputs": [
    {
     "data": {
      "text/plain": [
       "Sequential(\n",
       "  (layer1): Linear(in_features=2, out_features=10, bias=True)\n",
       "  (normlize): BatchNorm1d(10, eps=2, momentum=0.1, affine=True, track_running_stats=True)\n",
       "  (relu): ReLU(inplace)\n",
       ")"
      ]
     },
     "execution_count": 19,
     "metadata": {},
     "output_type": "execute_result"
    }
   ],
   "source": [
    "class NN(nn.Module):\n",
    "    def __init__(self):\n",
    "        super(NN, self).__init__()\n",
    "        self.fn = nn.Sequential()\n",
    "        self.fn.add_module(\"layer1\", nn.Linear(2,10))\n",
    "        self.fn.add_module(\"normlize\", nn.BatchNorm1d(10,2))\n",
    "        self.fn.add_module(\"relu\", nn.ReLU(True))\n",
    "        \n",
    "    def forward(self, x):\n",
    "        x = self.fn(x)\n",
    "        return x\n",
    "model2 = NN()\n",
    "model2.fn"
   ]
  },
  {
   "cell_type": "markdown",
   "metadata": {},
   "source": [
    "3. OrderedDict "
   ]
  },
  {
   "cell_type": "code",
   "execution_count": 20,
   "metadata": {},
   "outputs": [
    {
     "data": {
      "text/plain": [
       "Sequential(\n",
       "  (layer1): Linear(in_features=2, out_features=10, bias=True)\n",
       "  (normlize): BatchNorm1d(10, eps=2, momentum=0.1, affine=True, track_running_stats=True)\n",
       "  (relu): ReLU(inplace)\n",
       ")"
      ]
     },
     "execution_count": 20,
     "metadata": {},
     "output_type": "execute_result"
    }
   ],
   "source": [
    "from collections import OrderedDict\n",
    "class NN(nn.Module):\n",
    "    def __init__(self):\n",
    "        super(NN, self).__init__()\n",
    "        self.fn = nn.Sequential(OrderedDict([\n",
    "            ( \"layer1\", nn.Linear(2,10)),\n",
    "            (\"normlize\", nn.BatchNorm1d(10,2)),\n",
    "            (\"relu\", nn.ReLU(True))\n",
    "        ]))\n",
    "        \n",
    "        \n",
    "    def forward(self, x):\n",
    "        x = self.fn(x)\n",
    "        return x\n",
    "model3 = NN()\n",
    "model3.fn"
   ]
  },
  {
   "cell_type": "markdown",
   "metadata": {},
   "source": [
    "上述三种方法都一样，只是第一种方式每个子结构没有自定义名称"
   ]
  },
  {
   "cell_type": "markdown",
   "metadata": {},
   "source": [
    "### 查看子模块"
   ]
  },
  {
   "cell_type": "code",
   "execution_count": 28,
   "metadata": {},
   "outputs": [
    {
     "data": {
      "text/plain": [
       "(Linear(in_features=2, out_features=10, bias=True),\n",
       " BatchNorm1d(10, eps=2, momentum=0.1, affine=True, track_running_stats=True))"
      ]
     },
     "execution_count": 28,
     "metadata": {},
     "output_type": "execute_result"
    }
   ],
   "source": [
    "model3.fn.layer1, model2.fn.normlize"
   ]
  },
  {
   "cell_type": "code",
   "execution_count": null,
   "metadata": {},
   "outputs": [],
   "source": []
  }
 ],
 "metadata": {
  "kernelspec": {
   "display_name": "Python 3",
   "language": "python",
   "name": "python3"
  },
  "language_info": {
   "codemirror_mode": {
    "name": "ipython",
    "version": 3
   },
   "file_extension": ".py",
   "mimetype": "text/x-python",
   "name": "python",
   "nbconvert_exporter": "python",
   "pygments_lexer": "ipython3",
   "version": "3.6.7"
  }
 },
 "nbformat": 4,
 "nbformat_minor": 2
}
