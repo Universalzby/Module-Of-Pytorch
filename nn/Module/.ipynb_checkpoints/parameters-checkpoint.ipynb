{
 "cells": [
  {
   "cell_type": "markdown",
   "metadata": {},
   "source": [
    "创建的网络模型NN，将会成为一种类别"
   ]
  },
  {
   "cell_type": "code",
   "execution_count": 46,
   "metadata": {},
   "outputs": [
    {
     "name": "stdout",
     "output_type": "stream",
     "text": [
      "this is a NN type\n"
     ]
    }
   ],
   "source": [
    "from torch import nn\n",
    "class NN(nn.Module):\n",
    "    def __init(self):\n",
    "        super(NN, self).__init__()\n",
    "        self.fn = nn.Linear(10, 20)\n",
    "    def forward(self, x):\n",
    "        return self.fn(x)\n",
    "model = NN()\n",
    "if type(model) == NN:\n",
    "    print(\"this is a NN type\")"
   ]
  },
  {
   "cell_type": "markdown",
   "metadata": {},
   "source": [
    "模型创建的时候，参数会自动保存在parameters中"
   ]
  },
  {
   "cell_type": "code",
   "execution_count": 42,
   "metadata": {},
   "outputs": [
    {
     "data": {
      "text/plain": [
       "<generator object Module.parameters at 0x00000000094D3518>"
      ]
     },
     "execution_count": 42,
     "metadata": {},
     "output_type": "execute_result"
    }
   ],
   "source": [
    "model.parameters()"
   ]
  }
 ],
 "metadata": {
  "kernelspec": {
   "display_name": "Python 3",
   "language": "python",
   "name": "python3"
  },
  "language_info": {
   "codemirror_mode": {
    "name": "ipython",
    "version": 3
   },
   "file_extension": ".py",
   "mimetype": "text/x-python",
   "name": "python",
   "nbconvert_exporter": "python",
   "pygments_lexer": "ipython3",
   "version": "3.6.7"
  }
 },
 "nbformat": 4,
 "nbformat_minor": 2
}
