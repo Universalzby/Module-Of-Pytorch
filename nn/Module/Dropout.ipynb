{
 "cells": [
  {
   "cell_type": "markdown",
   "metadata": {},
   "source": [
    "将参数以一定概率置0，参数训练时减少了，\n",
    "防止过拟合，并且加速了训练"
   ]
  },
  {
   "cell_type": "code",
   "execution_count": 54,
   "metadata": {},
   "outputs": [],
   "source": [
    "from torch import nn\n",
    "import torch\n",
    "class NN(nn.Module):\n",
    "    def __init__(self, p):\n",
    "        super(NN, self).__init__()\n",
    "        self.fn = nn.Sequential(\n",
    "            nn.Dropout(p),\n",
    "            nn.Linear(2,10),\n",
    "            nn.Dropout(p),\n",
    "            nn.Linear(10,2),\n",
    "        )\n",
    "    def forward(self, x):\n",
    "        return self.fn(x)\n",
    "model = NN()"
   ]
  },
  {
   "cell_type": "code",
   "execution_count": 62,
   "metadata": {},
   "outputs": [
    {
     "name": "stdout",
     "output_type": "stream",
     "text": [
      "0 -> Parameter containing:\n",
      "tensor([[ 0.1967,  0.3857],\n",
      "        [ 0.6916,  0.5659],\n",
      "        [ 0.4548,  0.7010],\n",
      "        [ 0.2270, -0.5093],\n",
      "        [ 0.5512, -0.1441],\n",
      "        [ 0.0570, -0.0805],\n",
      "        [-0.1603,  0.3319],\n",
      "        [ 0.5996,  0.4092],\n",
      "        [ 0.3403,  0.0934],\n",
      "        [-0.5796, -0.6786]], requires_grad=True)\n",
      "1 -> Parameter containing:\n",
      "tensor([ 0.6134, -0.6435, -0.4065, -0.2139,  0.2418, -0.1634, -0.2447, -0.1917,\n",
      "        -0.0838, -0.1129], requires_grad=True)\n",
      "2 -> Parameter containing:\n",
      "tensor([[ 0.0118,  0.2366,  0.1572, -0.0051, -0.0463, -0.2309,  0.0387, -0.3116,\n",
      "          0.1866, -0.0890],\n",
      "        [ 0.2293, -0.0617,  0.1865, -0.2369,  0.0765, -0.0592, -0.2369, -0.0265,\n",
      "         -0.2475,  0.1691]], requires_grad=True)\n",
      "3 -> Parameter containing:\n",
      "tensor([0.3100, 0.1836], requires_grad=True)\n"
     ]
    }
   ],
   "source": [
    "for idx, m in enumerate(model.parameters()):\n",
    "    print(idx, '->', m)"
   ]
  },
  {
   "cell_type": "markdown",
   "metadata": {},
   "source": [
    "发现加入drop之后参数并没有初始化为0，所以注意一点，drop和其他layer是在前向传播时才会发生调用"
   ]
  }
 ],
 "metadata": {
  "kernelspec": {
   "display_name": "Python 3",
   "language": "python",
   "name": "python3"
  },
  "language_info": {
   "codemirror_mode": {
    "name": "ipython",
    "version": 3
   },
   "file_extension": ".py",
   "mimetype": "text/x-python",
   "name": "python",
   "nbconvert_exporter": "python",
   "pygments_lexer": "ipython3",
   "version": "3.6.7"
  }
 },
 "nbformat": 4,
 "nbformat_minor": 2
}
