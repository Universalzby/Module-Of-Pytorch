{
 "cells": [
  {
   "cell_type": "markdown",
   "metadata": {},
   "source": [
    "可参看做文本分类的CNN或者RNN，\n",
    "假设词或者数据有N个\n",
    "1. 对数据或词编号 0-n-1\n",
    "2. 将原句子中的词用对应编号代替，那么每个句子就是编号组成的一维向量（张量）\n",
    "3. 一次处理一个batch_size的句子时，相当于一个矩阵，batch_size * max(句子向量长度)\n",
    "4. embed处理编号矩阵后，每个句子将得到一个随机初始化的矩阵\n",
    "\n",
    "注意：相同编号的词的随机向量一定是一样的 \n"
   ]
  },
  {
   "cell_type": "code",
   "execution_count": 37,
   "metadata": {},
   "outputs": [],
   "source": [
    "embedding = nn.Embedding(10, 3) # 指定词的个数N =10 ，根据实际情况可统计出来，每个词的随机向量长度设置为3"
   ]
  },
  {
   "cell_type": "code",
   "execution_count": 38,
   "metadata": {},
   "outputs": [],
   "source": [
    "input = torch.LongTensor([[1,2,4,5],[4,3,2,9]]) # 拟定已经将词转换成编号的输入矩阵，一行为一个句子 ，此处可认为batch大小是2"
   ]
  },
  {
   "cell_type": "code",
   "execution_count": 40,
   "metadata": {},
   "outputs": [
    {
     "data": {
      "text/plain": [
       "tensor([[[ 0.1404,  1.2491,  1.7717],\n",
       "         [ 0.0988, -0.8543, -0.3514],\n",
       "         [-0.0572, -0.1451,  1.4766],\n",
       "         [ 1.3812,  0.0712, -0.0488]],\n",
       "\n",
       "        [[-0.0572, -0.1451,  1.4766],\n",
       "         [-1.0824, -0.1117, -1.4875],\n",
       "         [ 0.0988, -0.8543, -0.3514],\n",
       "         [ 1.4437, -1.4594,  0.2759]]], grad_fn=<EmbeddingBackward>)"
      ]
     },
     "execution_count": 40,
     "metadata": {},
     "output_type": "execute_result"
    }
   ],
   "source": [
    "embedding(input) # 处理后，每个词是一个长度为3的词向量，一个矩阵代表原来的一个句子，矩阵的行由句子的词个数决定"
   ]
  }
 ],
 "metadata": {
  "kernelspec": {
   "display_name": "Python 3",
   "language": "python",
   "name": "python3"
  },
  "language_info": {
   "codemirror_mode": {
    "name": "ipython",
    "version": 3
   },
   "file_extension": ".py",
   "mimetype": "text/x-python",
   "name": "python",
   "nbconvert_exporter": "python",
   "pygments_lexer": "ipython3",
   "version": "3.6.7"
  }
 },
 "nbformat": 4,
 "nbformat_minor": 2
}
