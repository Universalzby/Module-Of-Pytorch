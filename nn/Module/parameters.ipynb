{
 "cells": [
  {
   "cell_type": "markdown",
   "metadata": {},
   "source": [
    "创建的网络模型NN，将会成为一种类别"
   ]
  },
  {
   "cell_type": "code",
   "execution_count": 112,
   "metadata": {},
   "outputs": [
    {
     "name": "stdout",
     "output_type": "stream",
     "text": [
      "this is a NN type\n"
     ]
    }
   ],
   "source": [
    "from torch import nn\n",
    "import torch\n",
    "class NN(nn.Module):\n",
    "    def __init__(self):\n",
    "        super(NN, self).__init__()\n",
    "        self.fn = nn.Sequential(\n",
    "            nn.Linear(2,10),\n",
    "            nn.Linear(10,2)\n",
    "        )\n",
    "    def forward(self, x):\n",
    "        return self.fn(x)\n",
    "model = NN()\n",
    "if type(model) == NN:\n",
    "    print(\"this is a NN type\")"
   ]
  },
  {
   "cell_type": "markdown",
   "metadata": {},
   "source": [
    "模型创建的时候，参数会自动保存在parameters中\n",
    "\n",
    "1. 第一层网络 2*10的形式，实际权重矩阵是10*2\n",
    "2. 第一层网络 因为输出层是10 ，所以偏置参数是2个\n",
    "3. 第二层网络和第一层相反\n",
    "4. 可以发现，重复运行下面一段程序，参数不发生变化，而运行上面的程序后，参数发生变化，\n",
    "    因此网络的参数在模型实例化的时候，调用基类构造函数时会初始化好权重"
   ]
  },
  {
   "cell_type": "code",
   "execution_count": 119,
   "metadata": {},
   "outputs": [
    {
     "name": "stdout",
     "output_type": "stream",
     "text": [
      "this is a NN type\n",
      "0 -> Parameter containing:\n",
      "tensor([[ 0.0902, -0.2829],\n",
      "        [ 0.1631, -0.0704],\n",
      "        [ 0.1721,  0.2468],\n",
      "        [ 0.6549, -0.5205],\n",
      "        [-0.2307,  0.6441],\n",
      "        [-0.5210, -0.1397],\n",
      "        [ 0.7037,  0.0028],\n",
      "        [ 0.1277,  0.4944],\n",
      "        [ 0.2883, -0.0182],\n",
      "        [ 0.4461, -0.0985]], requires_grad=True)\n",
      "1 -> Parameter containing:\n",
      "tensor([ 0.2810,  0.2531,  0.2323,  0.3648,  0.7056,  0.3434,  0.6122,  0.5386,\n",
      "        -0.1676,  0.2969], requires_grad=True)\n",
      "2 -> Parameter containing:\n",
      "tensor([[-0.2598,  0.1469,  0.0603, -0.2758,  0.2434,  0.2176, -0.1526, -0.0787,\n",
      "         -0.0128,  0.2869],\n",
      "        [-0.1223,  0.1363,  0.2693, -0.0084,  0.2933, -0.1474, -0.0785, -0.0093,\n",
      "          0.0584,  0.3130]], requires_grad=True)\n",
      "3 -> Parameter containing:\n",
      "tensor([ 0.2091, -0.1829], requires_grad=True)\n"
     ]
    }
   ],
   "source": [
    "for idx, m in enumerate(model.parameters()):\n",
    "    print(idx, '->', m)"
   ]
  }
 ],
 "metadata": {
  "kernelspec": {
   "display_name": "Python 3",
   "language": "python",
   "name": "python3"
  },
  "language_info": {
   "codemirror_mode": {
    "name": "ipython",
    "version": 3
   },
   "file_extension": ".py",
   "mimetype": "text/x-python",
   "name": "python",
   "nbconvert_exporter": "python",
   "pygments_lexer": "ipython3",
   "version": "3.6.7"
  }
 },
 "nbformat": 4,
 "nbformat_minor": 2
}
